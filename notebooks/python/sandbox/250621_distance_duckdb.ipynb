{
 "cells": [
  {
   "cell_type": "code",
   "execution_count": 1,
   "metadata": {},
   "outputs": [],
   "source": [
    "import duckdb"
   ]
  },
  {
   "cell_type": "code",
   "execution_count": 2,
   "metadata": {},
   "outputs": [
    {
     "data": {
      "text/plain": [
       "[(42,)]"
      ]
     },
     "execution_count": 2,
     "metadata": {},
     "output_type": "execute_result"
    }
   ],
   "source": [
    "con = duckdb.connect(\"test.db\", read_only=True)\n",
    "con.execute(\"SELECT 42\").fetchall()  ## or con.sql(\"SELECT 42\")"
   ]
  },
  {
   "cell_type": "code",
   "execution_count": 3,
   "metadata": {},
   "outputs": [
    {
     "data": {
      "text/plain": [
       "<duckdb.duckdb.DuckDBPyConnection at 0x233277029f0>"
      ]
     },
     "execution_count": 3,
     "metadata": {},
     "output_type": "execute_result"
    }
   ],
   "source": [
    "con.execute(\"INSTALL spatial\") ## or con.install_extension(\"spatial\")\n",
    "con.execute(\"LOAD spatial\") ## or con.load_extension(\"spatial\")"
   ]
  },
  {
   "cell_type": "code",
   "execution_count": null,
   "metadata": {},
   "outputs": [],
   "source": [
    "con.sql(\"SELECT * FROM ST_Read('cities.geojson')\")"
   ]
  },
  {
   "cell_type": "code",
   "execution_count": null,
   "metadata": {},
   "outputs": [],
   "source": [
    "con.sql(\"SELECT COUNT(*) FROM 'cities*.csv'\")"
   ]
  },
  {
   "cell_type": "code",
   "execution_count": null,
   "metadata": {},
   "outputs": [],
   "source": []
  },
  {
   "cell_type": "code",
   "execution_count": null,
   "metadata": {},
   "outputs": [],
   "source": [
    "# con.sql().write_parquet() ## or con.sql(\"COPY (SELECT 42) TO 'out.parquet'\")\n",
    "\n",
    "con.sql(\n",
    "    \"COPY (SELECT * FROM cities WHERE country='USA') TO 'cities_us.parquet' (FORMAT PARQUET)\"\n",
    ")"
   ]
  },
  {
   "cell_type": "code",
   "execution_count": null,
   "metadata": {},
   "outputs": [],
   "source": [
    "con.close()"
   ]
  },
  {
   "cell_type": "code",
   "execution_count": null,
   "metadata": {},
   "outputs": [],
   "source": []
  },
  {
   "cell_type": "markdown",
   "metadata": {},
   "source": [
    "## *DuckDB* solution to modify"
   ]
  },
  {
   "cell_type": "code",
   "execution_count": null,
   "metadata": {},
   "outputs": [],
   "source": [
    "CREATE TABLE points AS SELECT * FROM read_parquet('points.parquet');\n",
    "CREATE TABLE boundary AS SELECT * FROM read_parquet('boundary.parquet');"
   ]
  },
  {
   "cell_type": "code",
   "execution_count": null,
   "metadata": {},
   "outputs": [],
   "source": [
    "ALTER TABLE points ADD COLUMN geom_webmercator GEOMETRY;\n",
    "UPDATE points SET geom_webmercator = ST_Transform(geom, 3857);\n",
    "\n",
    "ALTER TABLE boundary ADD COLUMN geom_webmercator GEOMETRY;\n",
    "UPDATE boundary SET geom_webmercator = ST_Transform(geom, 3857);\n"
   ]
  },
  {
   "cell_type": "code",
   "execution_count": null,
   "metadata": {},
   "outputs": [],
   "source": [
    "SELECT\n",
    "  p.id,\n",
    "  ST_Distance(p.geom_webmercator, b.geom_webmercator) AS distance_meters\n",
    "FROM points p\n",
    "CROSS JOIN boundary b;\n"
   ]
  },
  {
   "cell_type": "markdown",
   "metadata": {},
   "source": [
    "## *GDAL* solution (via *Shapely*) to modify"
   ]
  },
  {
   "cell_type": "code",
   "execution_count": null,
   "metadata": {},
   "outputs": [],
   "source": [
    "import fiona\n",
    "from shapely.geometry import shape\n",
    "\n",
    "with fiona.open(\"boundary.shp\") as src:\n",
    "    boundary_geom = shape(next(iter(src))['geometry'])"
   ]
  },
  {
   "cell_type": "code",
   "execution_count": null,
   "metadata": {},
   "outputs": [],
   "source": [
    "import pandas as pd\n",
    "from shapely.geometry import Point\n",
    "\n",
    "def compute_distance_to_boundary(df_chunk, boundary_geom):\n",
    "    return df_chunk.apply(\n",
    "        lambda row: Point(row['lon'], row['lat']).distance(boundary_geom),\n",
    "        axis=1\n",
    "    )\n",
    "\n",
    "# Assuming point data is in CSV\n",
    "for chunk in pd.read_csv(\"points.csv\", chunksize=1000000):\n",
    "    chunk['distance'] = compute_distance_to_boundary(chunk, boundary_geom)\n",
    "    chunk.to_csv(\"distances.csv\", mode='a', header=False, index=False)\n"
   ]
  }
 ],
 "metadata": {
  "kernelspec": {
   "display_name": "giswqs_geospatial_20230809_ee_2",
   "language": "python",
   "name": "python3"
  },
  "language_info": {
   "codemirror_mode": {
    "name": "ipython",
    "version": 3
   },
   "file_extension": ".py",
   "mimetype": "text/x-python",
   "name": "python",
   "nbconvert_exporter": "python",
   "pygments_lexer": "ipython3",
   "version": "3.11.4"
  }
 },
 "nbformat": 4,
 "nbformat_minor": 2
}
