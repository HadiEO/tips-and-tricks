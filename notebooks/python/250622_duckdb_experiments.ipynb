{
 "cells": [
  {
   "cell_type": "markdown",
   "metadata": {},
   "source": [
    "# Setup"
   ]
  },
  {
   "cell_type": "markdown",
   "metadata": {},
   "source": [
    "```bash\n",
    "conda create -n giswqs_geospatial_20250622 python=3.11\n",
    "conda activate giswqs_geospatial_20250622\n",
    "conda install -c conda-forge mamba\n",
    "mamba install -c conda-forge geospatial\n",
    "mamba install -c conda-forge python-duckdb duckdb-engine jupysql leafmap\n",
    "```"
   ]
  },
  {
   "cell_type": "code",
   "execution_count": 1,
   "metadata": {},
   "outputs": [],
   "source": [
    "import duckdb\n",
    "import pandas as pd\n",
    "import os\n",
    "import geopandas as gpd"
   ]
  },
  {
   "cell_type": "code",
   "execution_count": 2,
   "metadata": {},
   "outputs": [],
   "source": [
    "# con.sql(\"SHOW TABLES\")"
   ]
  },
  {
   "cell_type": "markdown",
   "metadata": {
    "vscode": {
     "languageId": "plaintext"
    }
   },
   "source": [
    "# First look at the data"
   ]
  },
  {
   "cell_type": "markdown",
   "metadata": {},
   "source": [
    "## Woreda points data"
   ]
  },
  {
   "cell_type": "code",
   "execution_count": 3,
   "metadata": {},
   "outputs": [],
   "source": [
    "con = duckdb.connect(\"woredo.db\")"
   ]
  },
  {
   "cell_type": "code",
   "execution_count": null,
   "metadata": {},
   "outputs": [],
   "source": [
    "con.sql(\"SHOW TABLES\")"
   ]
  },
  {
   "cell_type": "code",
   "execution_count": 5,
   "metadata": {},
   "outputs": [],
   "source": [
    "con.install_extension(\"spatial\")\n",
    "con.load_extension(\"spatial\")"
   ]
  },
  {
   "cell_type": "code",
   "execution_count": null,
   "metadata": {},
   "outputs": [],
   "source": []
  },
  {
   "cell_type": "code",
   "execution_count": 6,
   "metadata": {},
   "outputs": [],
   "source": [
    "indir = \"G:/ales_guyo/guyo_woreda/from_gee_cleaned\""
   ]
  },
  {
   "cell_type": "code",
   "execution_count": null,
   "metadata": {},
   "outputs": [],
   "source": [
    "os.listdir(indir)"
   ]
  },
  {
   "cell_type": "code",
   "execution_count": 19,
   "metadata": {},
   "outputs": [],
   "source": [
    "infile_csv = os.path.join(indir, 'data_25km_long_format_lonlat.csv')\n",
    "\n",
    "woreda_points_csv_file = infile_csv"
   ]
  },
  {
   "cell_type": "code",
   "execution_count": null,
   "metadata": {},
   "outputs": [],
   "source": [
    "con.sql(f\"SELECT COUNT(*) FROM '{infile_csv}'\")"
   ]
  },
  {
   "cell_type": "code",
   "execution_count": 15,
   "metadata": {},
   "outputs": [],
   "source": [
    "woreda_points_3 = con.sql(f\"SELECT * FROM '{infile_csv}' LIMIT 3\").df()"
   ]
  },
  {
   "cell_type": "code",
   "execution_count": null,
   "metadata": {},
   "outputs": [],
   "source": [
    "woreda_points_3"
   ]
  },
  {
   "cell_type": "code",
   "execution_count": null,
   "metadata": {},
   "outputs": [],
   "source": [
    "woreda_points_3.columns"
   ]
  },
  {
   "cell_type": "code",
   "execution_count": null,
   "metadata": {},
   "outputs": [],
   "source": [
    "woreda_points_3.Geographic"
   ]
  },
  {
   "cell_type": "markdown",
   "metadata": {},
   "source": [
    "### Convert to parquet"
   ]
  },
  {
   "cell_type": "code",
   "execution_count": 7,
   "metadata": {},
   "outputs": [],
   "source": [
    "woreda_points_parquet_file = 'data_25km_long_format_lonlat.parquet'"
   ]
  },
  {
   "cell_type": "code",
   "execution_count": null,
   "metadata": {},
   "outputs": [],
   "source": [
    "con.sql(f\"SELECT COUNT(*) FROM '{woreda_points_csv_file}'\")"
   ]
  },
  {
   "cell_type": "code",
   "execution_count": null,
   "metadata": {},
   "outputs": [],
   "source": [
    "con.sql(f\"FROM '{woreda_points_csv_file}' LIMIT 1\").df().columns[0:10]"
   ]
  },
  {
   "cell_type": "code",
   "execution_count": null,
   "metadata": {},
   "outputs": [],
   "source": [
    "# Convert CSV with lat/lon to parquet with geometry column\n",
    "con.sql(f\"\"\"\n",
    "    COPY (\n",
    "        SELECT \n",
    "            *,\n",
    "            ST_Point(latitude, longitude) as geometry \n",
    "        FROM '{woreda_points_csv_file}'\n",
    "    ) TO '{woreda_points_parquet_file}' (FORMAT PARQUET)\n",
    "\"\"\")"
   ]
  },
  {
   "cell_type": "code",
   "execution_count": null,
   "metadata": {},
   "outputs": [],
   "source": [
    "con.sql(f\"SELECT COUNT(*) FROM '{woreda_points_parquet_file}'\")"
   ]
  },
  {
   "cell_type": "code",
   "execution_count": null,
   "metadata": {},
   "outputs": [],
   "source": [
    "con.sql(f\"SELECT latitude, longitude, geometry FROM '{woreda_points_parquet_file}' LIMIT 2\")"
   ]
  },
  {
   "cell_type": "code",
   "execution_count": null,
   "metadata": {},
   "outputs": [],
   "source": [
    "con.sql(f\"SELECT * FROM '{woreda_points_parquet_file}' LIMIT 3\")"
   ]
  },
  {
   "cell_type": "markdown",
   "metadata": {},
   "source": [
    "### Store as table in the database"
   ]
  },
  {
   "cell_type": "code",
   "execution_count": null,
   "metadata": {},
   "outputs": [],
   "source": [
    "## First, test different approaches for small subset of data\n",
    "## do i need to format the geometry column ?\n",
    "\n",
    "\n",
    "# con.sql(f\"\"\"\n",
    "#     SELECT * EXCLUDE geometry, ST_GeomFromWKB(geometry) AS geometry \n",
    "#     FROM '{woreda_points_parquet_file}'\n",
    "#     LIMIT 3\n",
    "# \"\"\").df()\n",
    "\n",
    "\n",
    "# con.sql(f\"\"\"\n",
    "#     SELECT * EXCLUDE geometry, ST_GeomFromText(ST_AsText(geometry)) AS geometry \n",
    "#     FROM '{woreda_points_parquet_file}'\n",
    "#     LIMIT 3\n",
    "# \"\"\").df()\n",
    "\n",
    "# con.sql(f\"\"\"\n",
    "#     SELECT * EXCLUDE geometry, ST_AsText(geometry) AS geometry  -- this one works when .df() , but varchar in database\n",
    "#     FROM '{woreda_points_parquet_file}'\n",
    "#     LIMIT 3\n",
    "# \"\"\").df()\n",
    "\n",
    "con.sql(f\"\"\"\n",
    "    SELECT *  -- this one doesn't work when .df(), but is geometry in databse -- so use this one for storing table in database\n",
    "    FROM '{woreda_points_parquet_file}'\n",
    "    LIMIT 3\n",
    "\"\"\")\n"
   ]
  },
  {
   "cell_type": "code",
   "execution_count": null,
   "metadata": {},
   "outputs": [],
   "source": [
    "## Now do for all data (not done cause too slow...)\n",
    "\n",
    "# con.sql(f\"\"\"\n",
    "#     CREATE OR REPLACE TABLE woreda_points AS\n",
    "#     SELECT *  \n",
    "#     FROM '{woreda_points_parquet_file}'\n",
    "# \"\"\")\n",
    "\n",
    "## a bit too slow..."
   ]
  },
  {
   "cell_type": "code",
   "execution_count": null,
   "metadata": {},
   "outputs": [],
   "source": []
  },
  {
   "cell_type": "markdown",
   "metadata": {},
   "source": [
    "### Reproject to UTM, store as another table in database"
   ]
  },
  {
   "cell_type": "code",
   "execution_count": null,
   "metadata": {},
   "outputs": [],
   "source": [
    "## with table in database\n",
    "\n",
    "# con.sql(f\"\"\"\n",
    "# CREATE OR REPLACE TABLE woreda_points_utm AS\n",
    "# SELECT * EXCLUDE geometry, ST_Transform(ST_GeomFromText(ST_AsText(geometry)), 'EPSG:4326', '{utm_code}', true) AS geometry \n",
    "# FROM woreda_points \n",
    "# \"\"\")"
   ]
  },
  {
   "cell_type": "code",
   "execution_count": null,
   "metadata": {},
   "outputs": [],
   "source": [
    "### with external .gpkg file\n",
    "\n",
    "woreda_points_parquet_utm_file = 'woreda_points_utm.parquet'\n",
    "\n",
    "con.sql(f\"\"\"\n",
    "COPY (\n",
    "    SELECT * EXCLUDE geometry, ST_Transform(geometry, 'EPSG:4326', 'EPSG:32637', true) AS geometry \n",
    "    FROM '{woreda_points_parquet_file}' \n",
    ") TO '{woreda_points_parquet_utm_file}' (FORMAT PARQUET)\n",
    "\"\"\")\n",
    "\n",
    "## 32m"
   ]
  },
  {
   "cell_type": "code",
   "execution_count": null,
   "metadata": {},
   "outputs": [],
   "source": []
  },
  {
   "cell_type": "markdown",
   "metadata": {},
   "source": [
    "## Other woreda data"
   ]
  },
  {
   "cell_type": "code",
   "execution_count": 8,
   "metadata": {},
   "outputs": [],
   "source": [
    "# infile_csv_woredas = os.path.join(indir, 'woredas_25km_cleaned.csv')"
   ]
  },
  {
   "cell_type": "code",
   "execution_count": 11,
   "metadata": {},
   "outputs": [],
   "source": [
    "# con.sql(f\"SELECT COUNT(*) FROM '{infile_csv_woredas}'\")"
   ]
  },
  {
   "cell_type": "code",
   "execution_count": 12,
   "metadata": {},
   "outputs": [],
   "source": [
    "# con.sql(f\"SELECT * FROM '{infile_csv}' LIMIT 3\")"
   ]
  },
  {
   "cell_type": "code",
   "execution_count": 10,
   "metadata": {},
   "outputs": [],
   "source": [
    "# con.sql(f\"SELECT * FROM '{infile_csv_woredas}' LIMIT 3\")"
   ]
  },
  {
   "cell_type": "code",
   "execution_count": 13,
   "metadata": {},
   "outputs": [],
   "source": [
    "# con.sql(f\"SELECT COUNT(DISTINCT name_1_3) FROM '{infile_csv}'\")"
   ]
  },
  {
   "cell_type": "code",
   "execution_count": 14,
   "metadata": {},
   "outputs": [],
   "source": [
    "# con.sql(f\"SELECT COUNT(DISTINCT name) FROM '{infile_csv_woredas}'\")"
   ]
  },
  {
   "cell_type": "code",
   "execution_count": null,
   "metadata": {},
   "outputs": [],
   "source": [
    "# need the coordinates not yet here..."
   ]
  },
  {
   "cell_type": "code",
   "execution_count": null,
   "metadata": {},
   "outputs": [],
   "source": [
    "# con.sql(\"COPY (SELECT * FROM )) TO 'cities.parquet' (FORMAT PARQUET)\")"
   ]
  },
  {
   "cell_type": "markdown",
   "metadata": {},
   "source": [
    "## My old data"
   ]
  },
  {
   "cell_type": "code",
   "execution_count": 9,
   "metadata": {},
   "outputs": [],
   "source": [
    "old_file_csv = \"D:/hadi/projects/alessandro_guyo/data_processed/rasterToPoints_merged/allRasters_stack_pts_df_onlyXY_joined_subcatchments.csv\""
   ]
  },
  {
   "cell_type": "code",
   "execution_count": null,
   "metadata": {},
   "outputs": [],
   "source": [
    "con.sql(f\"SELECT COUNT(*) FROM '{old_file_csv}'\")"
   ]
  },
  {
   "cell_type": "code",
   "execution_count": null,
   "metadata": {},
   "outputs": [],
   "source": [
    "con.sql(f\"SELECT * FROM '{old_file_csv}' LIMIT 3\")"
   ]
  },
  {
   "cell_type": "code",
   "execution_count": null,
   "metadata": {},
   "outputs": [],
   "source": [
    "con.sql(f\"SELECT COUNT(DISTINCT (X, Y)) FROM '{old_file_csv}'\")\n"
   ]
  },
  {
   "cell_type": "code",
   "execution_count": 7,
   "metadata": {},
   "outputs": [],
   "source": [
    "old_file_parquet = \"old_points_with_geometry.parquet\""
   ]
  },
  {
   "cell_type": "code",
   "execution_count": null,
   "metadata": {},
   "outputs": [],
   "source": [
    "# Convert CSV with lat/lon to parquet with geometry column\n",
    "con.sql(f\"\"\"\n",
    "    COPY (\n",
    "        SELECT \n",
    "            *,\n",
    "            ST_Point(X, Y) as geometry \n",
    "        FROM '{old_file_csv}'\n",
    "    ) TO '{old_file_parquet}' (FORMAT PARQUET)\n",
    "\"\"\")\n"
   ]
  },
  {
   "cell_type": "code",
   "execution_count": null,
   "metadata": {},
   "outputs": [],
   "source": [
    "con.sql(f\"FROM '{old_file_parquet}'\")"
   ]
  },
  {
   "cell_type": "code",
   "execution_count": 20,
   "metadata": {},
   "outputs": [],
   "source": []
  },
  {
   "cell_type": "code",
   "execution_count": null,
   "metadata": {},
   "outputs": [],
   "source": [
    "con.sql(f\"SELECT COUNT(*) FROM '{old_file_parquet}'\")"
   ]
  },
  {
   "cell_type": "code",
   "execution_count": null,
   "metadata": {},
   "outputs": [],
   "source": [
    "con.sql(f\"SELECT * FROM '{old_file_parquet}' LIMIT 3\")"
   ]
  },
  {
   "cell_type": "code",
   "execution_count": null,
   "metadata": {},
   "outputs": [],
   "source": [
    "## Check geometry column by converting to geopandas and plotting them\n",
    "\n",
    "con.sql(f\"SELECT * EXCLUDE geometry, ST_GeomFromWKB(geometry) AS geometry FROM '{old_file_parquet}' LIMIT 3\").df()\n"
   ]
  },
  {
   "cell_type": "code",
   "execution_count": null,
   "metadata": {},
   "outputs": [],
   "source": [
    "con.sql(f\"SELECT * EXCLUDE geometry, ST_AsText(geometry) AS geometry FROM '{old_file_parquet}' LIMIT 3\").df()\n"
   ]
  },
  {
   "cell_type": "code",
   "execution_count": null,
   "metadata": {},
   "outputs": [],
   "source": [
    "temp = con.sql(f\"SELECT * EXCLUDE geometry, ST_AsText(geometry) AS geometry FROM '{old_file_parquet}' LIMIT 3\").df()\n",
    "# temp = con.sql(f\"SELECT * FROM '{old_file_parquet}' LIMIT 3\").df()\n",
    "\n",
    "temp"
   ]
  },
  {
   "cell_type": "code",
   "execution_count": 15,
   "metadata": {},
   "outputs": [],
   "source": [
    "from shapely.wkt import loads\n",
    "\n",
    "temp['geometry'] = temp['geometry'].apply(loads)"
   ]
  },
  {
   "cell_type": "code",
   "execution_count": null,
   "metadata": {},
   "outputs": [],
   "source": [
    "## convert pandas df to geopandas gdf, using geometry column\n",
    "temp_gdf = gpd.GeoDataFrame(temp, geometry='geometry', crs='EPSG:4326')\n",
    "\n",
    "temp_gdf.explore()"
   ]
  },
  {
   "cell_type": "code",
   "execution_count": null,
   "metadata": {},
   "outputs": [],
   "source": [
    "# con.sql(f\"\"\"\n",
    "#     CREATE OR REPLACE TABLE old_points AS\n",
    "#     SELECT * EXCLUDE geometry, ST_GeomFromText(ST_AsText(geometry)) AS geometry\n",
    "#     FROM '{old_file_parquet}'\n",
    "# \"\"\")\n",
    "\n",
    "\n",
    "con.sql(f\"\"\"\n",
    "    CREATE OR REPLACE TABLE old_points AS\n",
    "    SELECT * \n",
    "    FROM '{old_file_parquet}'\n",
    "\"\"\")"
   ]
  },
  {
   "cell_type": "code",
   "execution_count": null,
   "metadata": {},
   "outputs": [],
   "source": [
    "con.sql(\"FROM old_points\")"
   ]
  },
  {
   "cell_type": "code",
   "execution_count": null,
   "metadata": {},
   "outputs": [],
   "source": []
  },
  {
   "cell_type": "markdown",
   "metadata": {},
   "source": [
    "## Boundary data"
   ]
  },
  {
   "cell_type": "markdown",
   "metadata": {},
   "source": [
    "### just example use old data"
   ]
  },
  {
   "cell_type": "code",
   "execution_count": 19,
   "metadata": {},
   "outputs": [],
   "source": [
    "## just example use old data\n",
    "\n",
    "old_boundary_file = \"D:/hadi/projects/alessandro_guyo/data/afar_somali_shape_sub_watershed_cropped.gpkg\""
   ]
  },
  {
   "cell_type": "code",
   "execution_count": 20,
   "metadata": {},
   "outputs": [],
   "source": [
    "old_boundary = gpd.read_file(old_boundary_file)"
   ]
  },
  {
   "cell_type": "code",
   "execution_count": null,
   "metadata": {},
   "outputs": [],
   "source": [
    "old_boundary"
   ]
  },
  {
   "cell_type": "code",
   "execution_count": 21,
   "metadata": {},
   "outputs": [],
   "source": [
    "old_boundary_parquet_file = \"old_boundary.parquet\"\n",
    "\n",
    "con.sql(\n",
    "    f\"\"\"\n",
    "COPY (\n",
    "    SELECT *\n",
    "    FROM ST_Read('{old_boundary_file}')\n",
    ") TO '{old_boundary_parquet_file}'(FORMAT PARQUET)\n",
    "\"\"\"\n",
    ")\n"
   ]
  },
  {
   "cell_type": "code",
   "execution_count": null,
   "metadata": {},
   "outputs": [],
   "source": [
    "con.sql(f\"SELECT * FROM '{old_boundary_parquet_file}' LIMIT 3\")"
   ]
  },
  {
   "cell_type": "code",
   "execution_count": null,
   "metadata": {},
   "outputs": [],
   "source": [
    "con.sql(\"SELECT * FROM 'old_boundary.parquet' LIMIT 3\").df().columns"
   ]
  },
  {
   "cell_type": "code",
   "execution_count": 24,
   "metadata": {},
   "outputs": [],
   "source": [
    "# con.sql(\n",
    "#     \"\"\"\n",
    "# CREATE OR REPLACE TABLE old_boundary AS\n",
    "# SELECT * EXCLUDE geom, ST_GeomFromText(ST_AsText(geom))\n",
    "# AS geometry FROM 'old_boundary.parquet'\n",
    "# \"\"\"\n",
    "# )\n",
    "\n",
    "\n",
    "con.sql(\n",
    "    \"\"\"\n",
    "CREATE OR REPLACE TABLE old_boundary AS\n",
    "SELECT * \n",
    "FROM 'old_boundary.parquet'\n",
    "\"\"\"\n",
    ")"
   ]
  },
  {
   "cell_type": "code",
   "execution_count": null,
   "metadata": {},
   "outputs": [],
   "source": [
    "con.sql(\"FROM old_points\")"
   ]
  },
  {
   "cell_type": "code",
   "execution_count": null,
   "metadata": {},
   "outputs": [],
   "source": [
    "con.sql(\"FROM old_boundary\")"
   ]
  },
  {
   "cell_type": "markdown",
   "metadata": {},
   "source": [
    "### Woreda polygons"
   ]
  },
  {
   "cell_type": "code",
   "execution_count": 27,
   "metadata": {},
   "outputs": [],
   "source": [
    "woreda_polygons_file =  \"D:/hadi/projects/guyo/merged.gpkg\"\n"
   ]
  },
  {
   "cell_type": "code",
   "execution_count": 28,
   "metadata": {},
   "outputs": [],
   "source": [
    "con.sql(\n",
    "    f\"\"\"\n",
    "COPY (\n",
    "    SELECT *\n",
    "    FROM ST_Read('{woreda_polygons_file}')\n",
    ") TO 'woreda_polygons.parquet' (FORMAT PARQUET)\n",
    "\"\"\"\n",
    ")"
   ]
  },
  {
   "cell_type": "code",
   "execution_count": 29,
   "metadata": {},
   "outputs": [],
   "source": [
    "con.sql(\n",
    "    \"\"\"\n",
    "CREATE OR REPLACE TABLE woreda_polygons AS\n",
    "SELECT * \n",
    "FROM 'woreda_polygons.parquet'\n",
    "\"\"\"\n",
    ")"
   ]
  },
  {
   "cell_type": "markdown",
   "metadata": {},
   "source": [
    "### Woreda border segments (lines) with woreda-pair id"
   ]
  },
  {
   "cell_type": "code",
   "execution_count": 30,
   "metadata": {},
   "outputs": [],
   "source": [
    "woreda_border_segments_file = \"G:/ales_guyo/guyo_woreda/output/border_segments/boundary_segments_method2_dissolved.gpkg\""
   ]
  },
  {
   "cell_type": "code",
   "execution_count": 31,
   "metadata": {},
   "outputs": [],
   "source": [
    "con.sql(\n",
    "    f\"\"\"\n",
    "COPY (\n",
    "    SELECT *\n",
    "    FROM ST_Read('{woreda_border_segments_file}')\n",
    ") TO 'woreda_border_segments.parquet' (FORMAT PARQUET)\n",
    "\"\"\"\n",
    ")"
   ]
  },
  {
   "cell_type": "code",
   "execution_count": 32,
   "metadata": {},
   "outputs": [],
   "source": [
    "con.sql(\n",
    "    \"\"\"\n",
    "CREATE OR REPLACE TABLE woreda_border_segments AS\n",
    "SELECT * \n",
    "FROM 'woreda_border_segments.parquet'\n",
    "\"\"\"\n",
    ")"
   ]
  },
  {
   "cell_type": "code",
   "execution_count": null,
   "metadata": {},
   "outputs": [],
   "source": [
    "con.sql(\"FROM woreda_border_segments LIMIT 3\")"
   ]
  },
  {
   "cell_type": "code",
   "execution_count": null,
   "metadata": {},
   "outputs": [],
   "source": [
    "con.sql(\"FROM woreda_border_segments LIMIT 3\").df().columns"
   ]
  },
  {
   "cell_type": "markdown",
   "metadata": {},
   "source": [
    "## Test spatial join if the geometry columns are fine"
   ]
  },
  {
   "cell_type": "code",
   "execution_count": null,
   "metadata": {},
   "outputs": [],
   "source": [
    "con.sql(\"SHOW TABLES\")"
   ]
  },
  {
   "cell_type": "code",
   "execution_count": null,
   "metadata": {},
   "outputs": [],
   "source": [
    "con.sql(\"FROM old_points LIMIT 3\")"
   ]
  },
  {
   "cell_type": "code",
   "execution_count": null,
   "metadata": {},
   "outputs": [],
   "source": [
    "con.sql(\"FROM woreda_polygons LIMIT 3\")"
   ]
  },
  {
   "cell_type": "code",
   "execution_count": null,
   "metadata": {},
   "outputs": [],
   "source": [
    "con.sql(\"FROM woreda_polygons LIMIT 3\").df().columns"
   ]
  },
  {
   "cell_type": "markdown",
   "metadata": {},
   "source": [
    "### old_points within a selected woreda_polygons with treated_not_treated == 1.0"
   ]
  },
  {
   "cell_type": "code",
   "execution_count": 57,
   "metadata": {},
   "outputs": [],
   "source": [
    "selected_woreda_polygons_df = con.sql(\"\"\"\n",
    "SELECT * EXCLUDE geom, ST_AsText(geom) AS geom \n",
    "FROM woreda_polygons \n",
    "WHERE treated_not_treated = 1.0\n",
    "\"\"\").df()"
   ]
  },
  {
   "cell_type": "code",
   "execution_count": null,
   "metadata": {},
   "outputs": [],
   "source": [
    "selected_woreda_polygons_df.head(n=1)"
   ]
  },
  {
   "cell_type": "code",
   "execution_count": 61,
   "metadata": {},
   "outputs": [],
   "source": [
    "selected_woreda_polygons_df['geom'] = selected_woreda_polygons_df['geom'].apply(loads)"
   ]
  },
  {
   "cell_type": "code",
   "execution_count": 62,
   "metadata": {},
   "outputs": [],
   "source": [
    "selected_woreda_polygons_gdf = gpd.GeoDataFrame(selected_woreda_polygons_df, geometry='geom', crs='EPSG:4326')"
   ]
  },
  {
   "cell_type": "code",
   "execution_count": null,
   "metadata": {},
   "outputs": [],
   "source": [
    "selected_woreda_polygons_gdf.explore()"
   ]
  },
  {
   "cell_type": "code",
   "execution_count": 64,
   "metadata": {},
   "outputs": [],
   "source": [
    "## Create table of selected woreda polygons\n",
    "\n",
    "con.sql(\"\"\"\n",
    "CREATE OR REPLACE TABLE selected_woreda_polygons AS\n",
    "SELECT * EXCLUDE geom, ST_AsText(geom) AS geom \n",
    "FROM woreda_polygons \n",
    "WHERE treated_not_treated = 1.0\n",
    "\"\"\")"
   ]
  },
  {
   "cell_type": "code",
   "execution_count": 65,
   "metadata": {},
   "outputs": [],
   "source": [
    "## Reproject selected_woreda_polygons table to UTM 37N\n",
    "\n",
    "utm_code = 'EPSG:32637'\n",
    "\n",
    "con.sql(f\"\"\"\n",
    "CREATE OR REPLACE TABLE selected_woreda_polygons_utm AS\n",
    "SELECT * EXCLUDE geom, ST_Transform(ST_GeomFromText(geom), 'EPSG:4326', '{utm_code}', true) AS geometry \n",
    "FROM selected_woreda_polygons \n",
    "\"\"\")"
   ]
  },
  {
   "cell_type": "code",
   "execution_count": null,
   "metadata": {},
   "outputs": [],
   "source": [
    "con.sql(\"FROM selected_woreda_polygons_utm LIMIT 3\")"
   ]
  },
  {
   "cell_type": "code",
   "execution_count": null,
   "metadata": {},
   "outputs": [],
   "source": [
    "con.sql(\"SELECT COUNT(*) FROM old_points\")"
   ]
  },
  {
   "cell_type": "markdown",
   "metadata": {},
   "source": [
    "##### Reproject old_points table to UTM 37N"
   ]
  },
  {
   "cell_type": "code",
   "execution_count": null,
   "metadata": {},
   "outputs": [],
   "source": [
    "## Reproject old_points table to UTM 37N\n",
    "\n",
    "con.sql(f\"\"\"\n",
    "CREATE OR REPLACE TABLE old_points_utm AS\n",
    "SELECT * EXCLUDE geometry, ST_Transform(ST_GeomFromText(ST_AsText(geometry)), 'EPSG:4326', '{utm_code}', true) AS geometry \n",
    "FROM old_points \n",
    "\"\"\")"
   ]
  },
  {
   "cell_type": "code",
   "execution_count": null,
   "metadata": {},
   "outputs": [],
   "source": [
    "con.sql(\"FROM old_points_utm LIMIT 3\")"
   ]
  },
  {
   "cell_type": "markdown",
   "metadata": {},
   "source": [
    "#### Add custom point id"
   ]
  },
  {
   "cell_type": "code",
   "execution_count": null,
   "metadata": {},
   "outputs": [],
   "source": [
    "## Add custom_id as 1 to number of rows\n",
    "\n",
    "# con.sql(\"\"\"\n",
    "# CREATE OR REPLACE TABLE old_points_utm AS\n",
    "# SELECT \n",
    "#     *,\n",
    "#     ROW_NUMBER() OVER () as custom_points_id\n",
    "# FROM old_points_utm;\n",
    "# \"\"\")\n",
    "\n",
    "\n",
    "## a better way!\n",
    "con.sql(\"\"\"\n",
    "CREATE OR REPLACE TABLE old_points_utm_temp AS\n",
    "SELECT \n",
    "    *,\n",
    "    ROW_NUMBER() OVER () as custom_points_id\n",
    "FROM old_points_utm;\n",
    "\"\"\")\n",
    "\n",
    "con.sql(\"\"\"\n",
    "CREATE OR REPLACE TABLE old_points_utm AS\n",
    "SELECT * FROM old_points_utm_temp;\n",
    "\"\"\")"
   ]
  },
  {
   "cell_type": "code",
   "execution_count": null,
   "metadata": {},
   "outputs": [],
   "source": [
    "con.sql(\"FROM old_points_utm LIMIT 3\")"
   ]
  },
  {
   "cell_type": "code",
   "execution_count": 79,
   "metadata": {},
   "outputs": [],
   "source": [
    "# con.sql(\"\"\"\n",
    "# ALTER TABLE old_points_utm DROP COLUMN custom_points_id;\n",
    "# \"\"\")"
   ]
  },
  {
   "cell_type": "code",
   "execution_count": null,
   "metadata": {},
   "outputs": [],
   "source": [
    "con.sql(\"FROM old_points_utm LIMIT 3\")"
   ]
  },
  {
   "cell_type": "code",
   "execution_count": 81,
   "metadata": {},
   "outputs": [],
   "source": [
    "con.sql(\"ALTER TABLE old_points_utm RENAME COLUMN custom_points_id_1 TO custom_points_id;\")\n"
   ]
  },
  {
   "cell_type": "code",
   "execution_count": null,
   "metadata": {},
   "outputs": [],
   "source": [
    "con.sql(\"FROM old_points_utm LIMIT 3\")"
   ]
  },
  {
   "cell_type": "markdown",
   "metadata": {},
   "source": [
    "#### Add custom woreda polygon id"
   ]
  },
  {
   "cell_type": "code",
   "execution_count": 83,
   "metadata": {},
   "outputs": [],
   "source": [
    "## Add custom_id as 1 to number of rows\n",
    "\n",
    "# con.sql(\"\"\"\n",
    "# CREATE OR REPLACE TABLE selected_woreda_polygons_utm AS\n",
    "# SELECT \n",
    "#     *,\n",
    "#     ROW_NUMBER() OVER () as custom_woreda_id\n",
    "# FROM selected_woreda_polygons_utm;\n",
    "# \"\"\")\n",
    "\n",
    "## a better way!\n",
    "con.sql(\"\"\"\n",
    "CREATE OR REPLACE TABLE selected_woreda_polygons_utm_temp AS\n",
    "SELECT \n",
    "    *,\n",
    "    ROW_NUMBER() OVER () as custom_woreda_id\n",
    "FROM selected_woreda_polygons_utm;\n",
    "\"\"\")\n",
    "\n",
    "con.sql(\"\"\"\n",
    "CREATE OR REPLACE TABLE selected_woreda_polygons_utm AS\n",
    "SELECT * FROM selected_woreda_polygons_utm_temp;\n",
    "\"\"\")"
   ]
  },
  {
   "cell_type": "code",
   "execution_count": null,
   "metadata": {},
   "outputs": [],
   "source": [
    "con.sql(\"SELECT custom_woreda_id, geometry FROM selected_woreda_polygons_utm LIMIT 3\")"
   ]
  },
  {
   "cell_type": "code",
   "execution_count": null,
   "metadata": {},
   "outputs": [],
   "source": [
    "con.sql(\"SELECT COUNT(*) FROM old_points\")"
   ]
  },
  {
   "cell_type": "markdown",
   "metadata": {},
   "source": [
    "#### Test spatial join"
   ]
  },
  {
   "cell_type": "code",
   "execution_count": null,
   "metadata": {},
   "outputs": [],
   "source": [
    "## Spatial join\n",
    "\n",
    "test_join_df = con.sql(\"\"\"\n",
    "SELECT\n",
    "    ST_AsText(points.geometry) AS points_geometry,\n",
    "    points.custom_points_id,\n",
    "    woreda.custom_woreda_id\n",
    "FROM selected_woreda_polygons_utm as woreda\n",
    "JOIN old_points_utm as points\n",
    "ON ST_Intersects(woreda.geometry, points.geometry)\n",
    "\"\"\").df()\n",
    "\n",
    "test_join_df"
   ]
  },
  {
   "cell_type": "code",
   "execution_count": 92,
   "metadata": {},
   "outputs": [],
   "source": [
    "test_join_df['points_geometry'] = test_join_df['points_geometry'].apply(loads)"
   ]
  },
  {
   "cell_type": "code",
   "execution_count": null,
   "metadata": {},
   "outputs": [],
   "source": [
    "test_join_gdf = gpd.GeoDataFrame(test_join_df, geometry='points_geometry', crs='EPSG:32637')"
   ]
  },
  {
   "cell_type": "code",
   "execution_count": null,
   "metadata": {},
   "outputs": [],
   "source": [
    "selected_woreda_polygons_utm_df = con.sql(\"SELECT * EXCLUDE geometry, ST_AsText(geometry) AS geometry FROM selected_woreda_polygons_utm\").df()\n",
    "\n",
    "selected_woreda_polygons_utm_df.head(n=2)"
   ]
  },
  {
   "cell_type": "code",
   "execution_count": 101,
   "metadata": {},
   "outputs": [],
   "source": [
    "selected_woreda_polygons_utm_df['geometry'] = selected_woreda_polygons_utm_df['geometry'].apply(loads)"
   ]
  },
  {
   "cell_type": "code",
   "execution_count": 103,
   "metadata": {},
   "outputs": [],
   "source": [
    "selected_woreda_polygons_utm_gdf = gpd.GeoDataFrame(selected_woreda_polygons_utm_df, geometry='geometry', crs='EPSG:32637')"
   ]
  },
  {
   "cell_type": "code",
   "execution_count": 108,
   "metadata": {},
   "outputs": [],
   "source": [
    "# import folium\n",
    "\n",
    "# m = folium.Map()\n",
    "\n",
    "# selected_woreda_polygons_utm_gdf.explore(\n",
    "#     m=m,\n",
    "#     color='red',\n",
    "#     fillOpacity=0.3,\n",
    "#     name='Woreda Polygons',\n",
    "#     show=True\n",
    "# )\n",
    "\n",
    "# test_join_gdf.explore(\n",
    "#     m=m,\n",
    "#     color='blue',\n",
    "#     marker_kwds={'radius': 5},\n",
    "#     name='Test Join Points',\n",
    "#     show=True\n",
    "# )\n",
    "\n",
    "# folium.LayerControl().add_to(m)\n",
    "\n",
    "# m\n",
    "\n",
    "\n",
    "## slow to pan...\n"
   ]
  },
  {
   "cell_type": "code",
   "execution_count": null,
   "metadata": {},
   "outputs": [],
   "source": [
    "# !pip install lonboard"
   ]
  },
  {
   "cell_type": "code",
   "execution_count": null,
   "metadata": {},
   "outputs": [],
   "source": [
    "# import lonboard\n",
    "\n",
    "\n",
    "# # Try different layer creation methods\n",
    "# try:\n",
    "#     # Newer version\n",
    "#     woreda_layer = lonboard.Layer.from_geopandas(\n",
    "#         selected_woreda_polygons_utm_gdf,\n",
    "#         get_fill_color=[255, 0, 0, 50]\n",
    "#     )\n",
    "# except AttributeError:\n",
    "#     # Older version\n",
    "#     woreda_layer = lonboard.ScatterplotLayer.from_geopandas(\n",
    "#         selected_woreda_polygons_utm_gdf,\n",
    "#         get_fill_color=[255, 0, 0, 50]\n",
    "#     )\n",
    "\n",
    "# try:\n",
    "#     points_layer = lonboard.Layer.from_geopandas(\n",
    "#         test_join_gdf,\n",
    "#         get_fill_color=[0, 0, 255, 255]\n",
    "#     )\n",
    "# except AttributeError:\n",
    "#     points_layer = lonboard.ScatterplotLayer.from_geopandas(\n",
    "#         test_join_gdf,\n",
    "#         get_fill_color=[0, 0, 255, 255]\n",
    "#     )\n",
    "\n",
    "# map_view = lonboard.Map([woreda_layer, points_layer])\n",
    "# map_view"
   ]
  },
  {
   "cell_type": "code",
   "execution_count": 115,
   "metadata": {},
   "outputs": [],
   "source": [
    "## just save as .gpkg and inspect in QGIS\n",
    "\n",
    "selected_woreda_polygons_utm_gdf.to_file(\"selected_woreda_polygons_utm.gpkg\", driver=\"GPKG\")\n",
    "test_join_gdf.to_file(\"test_join_gdf.gpkg\", driver=\"GPKG\")\n",
    "\n"
   ]
  },
  {
   "cell_type": "markdown",
   "metadata": {},
   "source": [
    "Checked in QGIS, looks correct!"
   ]
  },
  {
   "cell_type": "markdown",
   "metadata": {},
   "source": [
    "## Now calculate distance"
   ]
  },
  {
   "cell_type": "markdown",
   "metadata": {},
   "source": [
    "### Just example using old points data and woreda border segments"
   ]
  },
  {
   "cell_type": "code",
   "execution_count": null,
   "metadata": {},
   "outputs": [],
   "source": [
    "con.sql(\"FROM old_points_utm LIMIT 3\")"
   ]
  },
  {
   "cell_type": "markdown",
   "metadata": {},
   "source": [
    "#### Reproject woreda_border_segments to utm_code"
   ]
  },
  {
   "cell_type": "code",
   "execution_count": null,
   "metadata": {},
   "outputs": [],
   "source": [
    "## Reproject woreda_border_segments to utm_code\n",
    "\n",
    "con.sql(f\"\"\"\n",
    "CREATE OR REPLACE TABLE woreda_border_segments_utm AS\n",
    "SELECT * EXCLUDE geom, ST_Transform(ST_GeomFromText(ST_AsText(geom)), 'EPSG:4326', '{utm_code}', true) AS geometry \n",
    "FROM woreda_border_segments \n",
    "\"\"\")"
   ]
  },
  {
   "cell_type": "code",
   "execution_count": null,
   "metadata": {},
   "outputs": [],
   "source": [
    "con.sql(\"\"\"\n",
    "SELECT * FROM woreda_border_segments_utm LIMIT 3\n",
    "\"\"\")"
   ]
  },
  {
   "cell_type": "markdown",
   "metadata": {},
   "source": [
    "#### Distance between every point and every line (nope)"
   ]
  },
  {
   "cell_type": "code",
   "execution_count": null,
   "metadata": {},
   "outputs": [],
   "source": [
    "# con.sql(\"\"\"\n",
    "# CREATE TABLE distances_old_points_to_woreda_border_segments_v1 AS\n",
    "# SELECT\n",
    "#   p.custom_points_id,\n",
    "#   b.polygon_pairs,\n",
    "#   ST_Distance(p.geometry, b.geometry) AS distance_meters\n",
    "# FROM old_points_utm p\n",
    "# CROSS JOIN woreda_border_segments_utm b;\n",
    "# \"\"\")\n",
    "\n",
    "## no, this is distance from every point, to every segment line!!\n",
    "## killed"
   ]
  },
  {
   "cell_type": "code",
   "execution_count": null,
   "metadata": {},
   "outputs": [],
   "source": [
    "# con.sql(\"SHOW TABLES\")"
   ]
  },
  {
   "cell_type": "markdown",
   "metadata": {},
   "source": [
    "#### Find closest border only "
   ]
  },
  {
   "cell_type": "markdown",
   "metadata": {},
   "source": [
    "##### Option 1"
   ]
  },
  {
   "cell_type": "code",
   "execution_count": null,
   "metadata": {},
   "outputs": [],
   "source": [
    "# CREATE TABLE distances_old_points_to_woreda_border_segments_v1 AS\n",
    "# SELECT\n",
    "#   p.custom_points_id,\n",
    "#   b.polygon_pairs,\n",
    "#   ST_Distance(p.geometry, b.geometry) AS distance_meters\n",
    "# FROM old_points_utm p\n",
    "# CROSS JOIN woreda_border_segments_utm b\n",
    "# WHERE (p.custom_points_id, ST_Distance(p.geometry, b.geometry)) IN (\n",
    "#   SELECT \n",
    "#     p2.custom_points_id,\n",
    "#     MIN(ST_Distance(p2.geometry, b2.geometry))\n",
    "#   FROM old_points_utm p2\n",
    "#   CROSS JOIN woreda_border_segments_utm b2\n",
    "#   GROUP BY p2.custom_points_id\n",
    "# );"
   ]
  },
  {
   "cell_type": "markdown",
   "metadata": {},
   "source": [
    "##### Option 2: Using window functions"
   ]
  },
  {
   "cell_type": "code",
   "execution_count": null,
   "metadata": {},
   "outputs": [],
   "source": [
    "# CREATE TABLE distances_old_points_to_closest_border AS\n",
    "# SELECT \n",
    "#   custom_points_id,\n",
    "#   polygon_pairs,\n",
    "#   distance_meters\n",
    "# FROM (\n",
    "#   SELECT\n",
    "#     p.custom_points_id,\n",
    "#     b.polygon_pairs,\n",
    "#     ST_Distance(p.geometry, b.geometry) AS distance_meters,\n",
    "#     ROW_NUMBER() OVER (PARTITION BY p.custom_points_id ORDER BY ST_Distance(p.geometry, b.geometry)) as rn\n",
    "#   FROM old_points_utm p\n",
    "#   CROSS JOIN woreda_border_segments_utm b\n",
    "# ) ranked\n",
    "# WHERE rn = 1;"
   ]
  },
  {
   "cell_type": "markdown",
   "metadata": {},
   "source": [
    "##### Option 3: Using spatial filtering first (most efficient for large datasets) - Claude recommends\n"
   ]
  },
  {
   "cell_type": "code",
   "execution_count": null,
   "metadata": {},
   "outputs": [],
   "source": [
    "# con.sql(\"\"\"\n",
    "# CREATE TABLE distances_old_points_to_closest_border AS\n",
    "# SELECT \n",
    "#   custom_points_id,\n",
    "#   polygon_pairs,\n",
    "#   distance_meters\n",
    "# FROM (\n",
    "#   SELECT\n",
    "#     p.custom_points_id,\n",
    "#     b.polygon_pairs,\n",
    "#     ST_Distance(p.geometry, b.geometry) AS distance_meters,\n",
    "#     ROW_NUMBER() OVER (PARTITION BY p.custom_points_id ORDER BY ST_Distance(p.geometry, b.geometry)) as rn\n",
    "#   FROM old_points_utm p\n",
    "#   CROSS JOIN woreda_border_segments_utm b\n",
    "#   WHERE ST_DWithin(p.geometry, b.geometry, 25000)  -- Only check within 25km\n",
    "# ) ranked\n",
    "# WHERE rn = 1\n",
    "# \"\"\")\n",
    "\n",
    "## Likely will take over 240 minutes...\n",
    "## killed"
   ]
  },
  {
   "cell_type": "code",
   "execution_count": null,
   "metadata": {},
   "outputs": [],
   "source": []
  },
  {
   "cell_type": "markdown",
   "metadata": {},
   "source": [
    "### ** Real woredo points data, distance to border segments between individual woreda **"
   ]
  },
  {
   "cell_type": "code",
   "execution_count": null,
   "metadata": {},
   "outputs": [],
   "source": [
    "con.sql(f\"FROM '{woreda_points_parquet_utm_file}' LIMIT 3\")"
   ]
  },
  {
   "cell_type": "code",
   "execution_count": null,
   "metadata": {},
   "outputs": [],
   "source": [
    "con.sql(\"SHOW TABLES\")"
   ]
  },
  {
   "cell_type": "code",
   "execution_count": null,
   "metadata": {},
   "outputs": [],
   "source": [
    "con.sql(\"FROM woreda_polygons LIMIT 3\")"
   ]
  },
  {
   "cell_type": "code",
   "execution_count": null,
   "metadata": {},
   "outputs": [],
   "source": [
    "con.sql(\"FROM woreda_border_segments_utm LIMIT 3\")"
   ]
  },
  {
   "cell_type": "code",
   "execution_count": null,
   "metadata": {},
   "outputs": [],
   "source": [
    "con.sql(\"FROM '{woreda_points_parquet_utm_file}' LIMIT 3\").df().columns"
   ]
  },
  {
   "cell_type": "code",
   "execution_count": null,
   "metadata": {},
   "outputs": [],
   "source": [
    "con.sql(\"FROM woreda_border_segments_utm LIMIT 3\").df().columns"
   ]
  },
  {
   "cell_type": "code",
   "execution_count": 15,
   "metadata": {},
   "outputs": [],
   "source": [
    "woreda_polygons_addRowId_file = \"woreda_addRowId.gpkg\""
   ]
  },
  {
   "cell_type": "code",
   "execution_count": null,
   "metadata": {},
   "outputs": [],
   "source": [
    "con.sql(f\"FROM '{woreda_polygons_addRowId_file}' LIMIT 3\")  ## custom_woreda_id"
   ]
  },
  {
   "cell_type": "code",
   "execution_count": 17,
   "metadata": {},
   "outputs": [],
   "source": [
    "# Read the GeoPackage file and register it as a table\n",
    "con.sql(f\"\"\"\n",
    "CREATE OR REPLACE TABLE woreda_polygons_addRowId AS \n",
    "SELECT * FROM ST_Read('{woreda_polygons_addRowId_file}')\n",
    "\"\"\")"
   ]
  },
  {
   "cell_type": "code",
   "execution_count": null,
   "metadata": {},
   "outputs": [],
   "source": [
    "con.sql(\"FROM woreda_polygons_addRowId LIMIT 3\")  ## custom_woreda_id"
   ]
  },
  {
   "cell_type": "code",
   "execution_count": null,
   "metadata": {},
   "outputs": [],
   "source": [
    "columns_info = con.sql(f\"DESCRIBE '{woreda_points_parquet_utm_file}'\").df()\n",
    "print(\"Available columns:\", columns_info['column_name'].tolist())"
   ]
  },
  {
   "cell_type": "markdown",
   "metadata": {},
   "source": [
    "#### Test run"
   ]
  },
  {
   "cell_type": "code",
   "execution_count": null,
   "metadata": {},
   "outputs": [],
   "source": [
    "## Test \n",
    "\n",
    "con.sql(f\"\"\"\n",
    "SELECT \n",
    "  name_1_3,\n",
    "  buffer_typ,\n",
    "  longitude,\n",
    "  latitude,\n",
    "  year,\n",
    "  ndvi,\n",
    "  npp,\n",
    "  precip,\n",
    "  taverage,\n",
    "  tmax,\n",
    "  aspect,\n",
    "  elevation,\n",
    "  ENGTYPE_3,\n",
    "  Geographic,\n",
    "  ID_0,\n",
    "  ID_1,\n",
    "  ID_2,\n",
    "  ID_3,\n",
    "  ISO,\n",
    "  NAME_0,\n",
    "  NAME_1,\n",
    "  NAME_2,\n",
    "  NAME_3,\n",
    "  NL_NAME_3,\n",
    "  pixel_id,\n",
    "  PriorityCo,\n",
    "  region,\n",
    "  second_new,\n",
    "  slope,\n",
    "  treated_no,\n",
    "  Type,\n",
    "  TYPE_3,\n",
    "  VARNAME_3,\n",
    "  woreda,\n",
    "  zone,\n",
    "  lc_year,\n",
    "  land_cover_value,\n",
    "  polygon_pairs,\n",
    "  distance_meters\n",
    "FROM (\n",
    "  SELECT\n",
    "    p.name_1_3,\n",
    "    p.buffer_typ,\n",
    "    p.longitude,\n",
    "    p.latitude,\n",
    "    p.year,\n",
    "    p.ndvi,\n",
    "    p.npp,\n",
    "    p.precip,\n",
    "    p.taverage,\n",
    "    p.tmax,\n",
    "    p.aspect,\n",
    "    p.elevation,\n",
    "    p.ENGTYPE_3,\n",
    "    p.Geographic,\n",
    "    p.ID_0,\n",
    "    p.ID_1,\n",
    "    p.ID_2,\n",
    "    p.ID_3,\n",
    "    p.ISO,\n",
    "    p.NAME_0,\n",
    "    p.NAME_1,\n",
    "    p.NAME_2,\n",
    "    p.NAME_3,\n",
    "    p.NL_NAME_3,\n",
    "    p.pixel_id,\n",
    "    p.PriorityCo,\n",
    "    p.region,\n",
    "    p.second_new,\n",
    "    p.slope,\n",
    "    p.treated_no,\n",
    "    p.Type,\n",
    "    p.TYPE_3,\n",
    "    p.VARNAME_3,\n",
    "    p.woreda,\n",
    "    p.zone,\n",
    "    p.lc_year,\n",
    "    p.land_cover_value,\n",
    "    b.polygon_pairs,\n",
    "    ST_Distance(p.geometry, b.geometry) AS distance_meters,\n",
    "    ROW_NUMBER() OVER (PARTITION BY ROWID ORDER BY ST_Distance(p.geometry, b.geometry)) as rn\n",
    "  FROM (SELECT * FROM '{woreda_points_parquet_utm_file}' LIMIT 1000) AS p\n",
    "  CROSS JOIN woreda_border_segments_utm AS b\n",
    "   -- WHERE ST_DWithin(p.geometry, b.geometry, 25000)  -- need to remove to test\n",
    ") ranked\n",
    "WHERE rn = 1\n",
    "\"\"\")\n",
    "\n",
    "## Limited to 1000 points, but why result is 2587 rows?"
   ]
  },
  {
   "cell_type": "code",
   "execution_count": null,
   "metadata": {},
   "outputs": [],
   "source": [
    "# How many rows?\n",
    "\n",
    "con.sql(f\"SELECT COUNT(*) FROM '{woreda_points_parquet_utm_file}'\")"
   ]
  },
  {
   "cell_type": "code",
   "execution_count": null,
   "metadata": {},
   "outputs": [],
   "source": [
    "## How many unique points ?\n",
    "\n",
    "con.sql(f\"SELECT COUNT(DISTINCT geometry) FROM '{woreda_points_parquet_utm_file}'\")\n",
    "\n",
    "## 354074"
   ]
  },
  {
   "cell_type": "code",
   "execution_count": null,
   "metadata": {},
   "outputs": [],
   "source": [
    "con.sql(f\"\"\"\n",
    "    SELECT COUNT(DISTINCT (latitude, longitude))\n",
    "    FROM '{woreda_points_parquet_utm_file}'\n",
    "\"\"\")"
   ]
  },
  {
   "cell_type": "markdown",
   "metadata": {},
   "source": [
    "- So there are only 350k unique coordinates actually... and ideally, just need to compute distance for these unique points, instead of each row in the 250 million rows table....  \n",
    "- But can't do this easily, cause there is no unique point id...  "
   ]
  },
  {
   "cell_type": "code",
   "execution_count": null,
   "metadata": {},
   "outputs": [],
   "source": [
    "con.sql(f\"SELECT COUNT(DISTINCT pixel_id) FROM '{woreda_points_parquet_utm_file}'\")\n"
   ]
  },
  {
   "cell_type": "markdown",
   "metadata": {},
   "source": [
    "#### Create a table of unique point id"
   ]
  },
  {
   "cell_type": "code",
   "execution_count": null,
   "metadata": {},
   "outputs": [],
   "source": [
    "# Create table of unique points with custom ID\n",
    "con.sql(f\"\"\"\n",
    "CREATE OR REPLACE TABLE woreda_unique_points AS\n",
    "SELECT \n",
    "    ROW_NUMBER() OVER () AS custom_point_id,\n",
    "    latitude,\n",
    "    longitude\n",
    "FROM (\n",
    "    SELECT DISTINCT\n",
    "        geometry,\n",
    "        latitude, longitude\n",
    "    FROM '{woreda_points_parquet_utm_file}'\n",
    ")\n",
    "\"\"\")"
   ]
  },
  {
   "cell_type": "code",
   "execution_count": null,
   "metadata": {},
   "outputs": [],
   "source": [
    "con.sql(\"SELECT COUNT(*) FROM woreda_unique_points\")"
   ]
  },
  {
   "cell_type": "code",
   "execution_count": null,
   "metadata": {},
   "outputs": [],
   "source": [
    "con.sql(\"FROM woreda_unique_points LIMIT 3\")"
   ]
  },
  {
   "cell_type": "code",
   "execution_count": 46,
   "metadata": {},
   "outputs": [],
   "source": []
  },
  {
   "cell_type": "code",
   "execution_count": 48,
   "metadata": {},
   "outputs": [],
   "source": [
    "## Add geometry column based on latitude, longitude,\n",
    "## then transform to UTM 37N\n",
    "## then add columns latitude_utm_37N, longitude_utm_37N\n",
    "\n",
    "\n",
    "# Add geometry column in WGS84 (EPSG:4326)\n",
    "con.sql(f\"\"\"\n",
    "CREATE OR REPLACE TABLE woreda_unique_points AS\n",
    "    SELECT \n",
    "        *,\n",
    "        ST_Point(longitude, latitude) as geometry \n",
    "    FROM woreda_unique_points\n",
    "\"\"\")\n",
    "\n"
   ]
  },
  {
   "cell_type": "code",
   "execution_count": null,
   "metadata": {},
   "outputs": [],
   "source": [
    "con.sql(\"FROM woreda_unique_points LIMIT 3\")"
   ]
  },
  {
   "cell_type": "code",
   "execution_count": 50,
   "metadata": {},
   "outputs": [],
   "source": [
    "# Transform to UTM 37N (EPSG:32637)\n",
    "\n",
    "con.sql(f\"\"\"\n",
    "CREATE OR REPLACE TABLE woreda_unique_points AS\n",
    "SELECT *, ST_Transform(ST_GeomFromText(ST_AsText(geometry)), 'EPSG:4326', 'EPSG:32637', true) AS geometry_utm_37N \n",
    "FROM woreda_unique_points \n",
    "\"\"\")\n"
   ]
  },
  {
   "cell_type": "code",
   "execution_count": null,
   "metadata": {},
   "outputs": [],
   "source": [
    "con.sql(\"FROM woreda_unique_points LIMIT 3\")"
   ]
  },
  {
   "cell_type": "code",
   "execution_count": 52,
   "metadata": {},
   "outputs": [],
   "source": [
    "\n",
    "# Extract UTM coordinates into separate columns\n",
    "con.sql(\"\"\"\n",
    "CREATE OR REPLACE TABLE woreda_unique_points AS\n",
    "SELECT *, ST_X(ST_GeomFromText(ST_AsText(geometry_utm_37N))) AS x_utm_37N, ST_Y(ST_GeomFromText(ST_AsText(geometry_utm_37N))) AS y_utm_37N\n",
    "FROM woreda_unique_points\n",
    "\"\"\")"
   ]
  },
  {
   "cell_type": "code",
   "execution_count": null,
   "metadata": {},
   "outputs": [],
   "source": [
    "con.sql(\"FROM woreda_unique_points LIMIT 3\")"
   ]
  },
  {
   "cell_type": "code",
   "execution_count": 54,
   "metadata": {},
   "outputs": [],
   "source": [
    "## Export as .csv\n",
    "\n",
    "con.sql(\"COPY (SELECT * FROM woreda_unique_points) TO 'woreda_unique_points.csv' (HEADER, DELIMITER ',')\")\n"
   ]
  },
  {
   "cell_type": "markdown",
   "metadata": {},
   "source": [
    "#### Real run! (only for unique points)"
   ]
  },
  {
   "cell_type": "code",
   "execution_count": null,
   "metadata": {},
   "outputs": [],
   "source": [
    "con.sql(\"FROM woreda_unique_points LIMIT 3\").df().columns"
   ]
  },
  {
   "cell_type": "code",
   "execution_count": null,
   "metadata": {},
   "outputs": [],
   "source": [
    "## careful big run!\n",
    "## Option 3 above\n",
    "\n",
    "## Need to keep all columns in the woreda_points data cause no unique point id, and \n",
    "## not sure yet an efficient way of adding columns, without creating temporary copy and then deleting the old table and replacing with new table\n",
    "\n",
    "con.sql(f\"\"\"\n",
    "CREATE OR REPLACE TABLE woreda_unique_points_distance_to_closest_border_segment AS\n",
    "SELECT \n",
    "  custom_point_id,\n",
    "   -- border segment id:\n",
    "  polygon_pairs,\n",
    "  -- calculated distance  \n",
    "  distance_meters\n",
    "FROM (\n",
    "  SELECT\n",
    "    p.custom_point_id,  \n",
    "    -- border segment id:\n",
    "    b.polygon_pairs,\n",
    "    -- calculated distance:\n",
    "    ST_Distance(p.geometry_utm_37N, b.geometry) AS distance_meters, -- point geometry utm !\n",
    "    ROW_NUMBER() OVER (PARTITION BY p.custom_point_id ORDER BY ST_Distance(p.geometry_utm_37N, b.geometry)) as rn -- point geometry utm !\n",
    "  FROM (SELECT * FROM woreda_unique_points) AS p\n",
    "  CROSS JOIN woreda_border_segments_utm AS b\n",
    "  WHERE ST_DWithin(p.geometry_utm_37N, b.geometry, 25000)  -- point geometry utm ! -- to try is it better without ST_DWithin... \n",
    ") ranked\n",
    "WHERE rn = 1\n",
    "\"\"\")\n",
    "\n",
    "## 27 m"
   ]
  },
  {
   "cell_type": "code",
   "execution_count": null,
   "metadata": {},
   "outputs": [],
   "source": [
    "## try is it better without ST_DWithin.\n",
    "\n",
    "con.sql(f\"\"\"\n",
    "CREATE OR REPLACE TABLE woreda_unique_points_distance_to_closest_border_segment__noSTDWithin AS\n",
    "SELECT \n",
    "  custom_point_id,\n",
    "   -- border segment id:\n",
    "  polygon_pairs,\n",
    "  -- calculated distance  \n",
    "  distance_meters\n",
    "FROM (\n",
    "  SELECT\n",
    "    p.custom_point_id,  \n",
    "    -- border segment id:\n",
    "    b.polygon_pairs,\n",
    "    -- calculated distance:\n",
    "    ST_Distance(p.geometry_utm_37N, b.geometry) AS distance_meters, -- point geometry utm !\n",
    "    ROW_NUMBER() OVER (PARTITION BY p.custom_point_id ORDER BY ST_Distance(p.geometry_utm_37N, b.geometry)) as rn -- point geometry utm !\n",
    "  FROM (SELECT * FROM woreda_unique_points) AS p\n",
    "  CROSS JOIN woreda_border_segments_utm AS b\n",
    "  -- WHERE ST_DWithin(p.geometry_utm_37N, b.geometry, 25000)  -- point geometry utm ! --  try is it better without ST_DWithin... \n",
    ") ranked\n",
    "WHERE rn = 1\n",
    "\"\"\")\n",
    "\n",
    "## 1000m and still running... lol\n",
    "## killed"
   ]
  },
  {
   "cell_type": "code",
   "execution_count": null,
   "metadata": {},
   "outputs": [],
   "source": [
    "con.sql(\"SELECT COUNT(*) FROM woreda_unique_points_distance_to_closest_border_segment\")"
   ]
  },
  {
   "cell_type": "code",
   "execution_count": null,
   "metadata": {},
   "outputs": [],
   "source": [
    "con.sql(\"FROM woreda_unique_points_distance_to_closest_border_segment LIMIT 3\")"
   ]
  },
  {
   "cell_type": "code",
   "execution_count": 60,
   "metadata": {},
   "outputs": [],
   "source": [
    "con.sql(\"\"\"\n",
    "COPY (SELECT * FROM woreda_unique_points_distance_to_closest_border_segment) \n",
    "TO 'woreda_unique_points_distance_to_closest_border_segment.csv' (HEADER, DELIMITER ',')\n",
    "\"\"\")"
   ]
  },
  {
   "cell_type": "code",
   "execution_count": null,
   "metadata": {},
   "outputs": [],
   "source": []
  },
  {
   "cell_type": "code",
   "execution_count": null,
   "metadata": {},
   "outputs": [],
   "source": []
  },
  {
   "cell_type": "markdown",
   "metadata": {},
   "source": [
    "# Maybe just create distance raster, for each border segment id, mask with the merged buffer"
   ]
  },
  {
   "cell_type": "markdown",
   "metadata": {},
   "source": [
    "## Border segments"
   ]
  },
  {
   "cell_type": "code",
   "execution_count": null,
   "metadata": {},
   "outputs": [],
   "source": []
  },
  {
   "cell_type": "code",
   "execution_count": null,
   "metadata": {},
   "outputs": [],
   "source": [
    "woreda_border_segments_utm_df = con.sql(\"SELECT * EXCLUDE geo FROM woreda_border_segments_utm\")"
   ]
  },
  {
   "cell_type": "code",
   "execution_count": null,
   "metadata": {},
   "outputs": [],
   "source": []
  },
  {
   "cell_type": "markdown",
   "metadata": {},
   "source": [
    "## Buffer merged"
   ]
  },
  {
   "cell_type": "code",
   "execution_count": 67,
   "metadata": {},
   "outputs": [],
   "source": [
    "buffer_merged = gpd.read_file(\"G:/ales_guyo/guyo_woreda/output/woreda_buffer_25km_all_attrs.shp\")"
   ]
  },
  {
   "cell_type": "code",
   "execution_count": null,
   "metadata": {},
   "outputs": [],
   "source": [
    "buffer_merged.shape"
   ]
  },
  {
   "cell_type": "code",
   "execution_count": null,
   "metadata": {},
   "outputs": [],
   "source": [
    "buffer_merged.crs"
   ]
  },
  {
   "cell_type": "code",
   "execution_count": 70,
   "metadata": {},
   "outputs": [],
   "source": [
    "buffer_merged_utm = buffer_merged.to_crs(\"EPSG:32637\")"
   ]
  },
  {
   "cell_type": "code",
   "execution_count": null,
   "metadata": {},
   "outputs": [],
   "source": [
    "buffer_merged_utm.explore()"
   ]
  },
  {
   "cell_type": "markdown",
   "metadata": {},
   "source": [
    "## 1-km template raster"
   ]
  },
  {
   "cell_type": "code",
   "execution_count": 29,
   "metadata": {},
   "outputs": [],
   "source": [
    "import rasterio\n",
    "import rioxarray\n",
    "import numpy as np"
   ]
  },
  {
   "cell_type": "code",
   "execution_count": null,
   "metadata": {},
   "outputs": [],
   "source": []
  },
  {
   "cell_type": "code",
   "execution_count": 79,
   "metadata": {},
   "outputs": [],
   "source": [
    "## create a 1-km raster in EPSG:32637, within the bbox of buffer_merged_utm\n",
    "\n",
    "# Get bounds from buffer_merged_utm\n",
    "bounds = buffer_merged_utm.total_bounds\n",
    "\n",
    "# Round bounds to nearest km\n",
    "xmin = np.floor(bounds[0]/1000)*1000\n",
    "ymin = np.floor(bounds[1]/1000)*1000 \n",
    "xmax = np.ceil(bounds[2]/1000)*1000\n",
    "ymax = np.ceil(bounds[3]/1000)*1000\n",
    "\n",
    "# Calculate dimensions\n",
    "width = int((xmax - xmin) / 1000)\n",
    "height = int((ymax - ymin) / 1000)\n",
    "\n",
    "# Create transform\n",
    "transform = rasterio.transform.from_origin(xmin, ymax, 1000, 1000)\n",
    "\n",
    "# Create empty raster array\n",
    "template_raster = np.random.rand(height, width)\n",
    "\n",
    "# Create metadata for the raster\n",
    "meta = {\n",
    "    'driver': 'GTiff',\n",
    "    'dtype': 'float32',\n",
    "    'nodata': None,\n",
    "    'width': width,\n",
    "    'height': height,\n",
    "    'count': 1,\n",
    "    'crs': 'EPSG:32637',\n",
    "    'transform': transform\n",
    "}\n",
    "\n",
    "# Save the template raster\n",
    "with rasterio.open('template_1km_random_ok.tif', 'w', overwrite=True, **meta) as dst:\n",
    "    dst.write(template_raster.astype('float32'), 1)\n"
   ]
  },
  {
   "cell_type": "code",
   "execution_count": 45,
   "metadata": {},
   "outputs": [],
   "source": [
    "# import rasterio\n",
    "# import numpy as np\n",
    "\n",
    "# # Open the template raster and keep the dataset object\n",
    "# template_ds = rasterio.open(\"template_1km_random_ok.tif\")\n",
    "# # Get the metadata\n",
    "# template_meta = template_ds.meta\n",
    "# # Read the raster data\n",
    "# template_raster = template_ds.read(1)\n",
    "\n",
    "# template_ds.close()"
   ]
  },
  {
   "cell_type": "code",
   "execution_count": 80,
   "metadata": {},
   "outputs": [],
   "source": [
    "template_raster_da = rioxarray.open_rasterio(\"template_1km_random_ok.tif\")"
   ]
  },
  {
   "cell_type": "code",
   "execution_count": null,
   "metadata": {},
   "outputs": [],
   "source": [
    "template_raster_da"
   ]
  },
  {
   "cell_type": "code",
   "execution_count": 81,
   "metadata": {},
   "outputs": [],
   "source": [
    "# Crop the template raster to the buffer_merged_utm geometry\n",
    "template_raster_da_cropped = template_raster_da.rio.clip(buffer_merged_utm.geometry, \n",
    "                                                     buffer_merged_utm.crs,\n",
    "                                                     drop=True)\n",
    "\n",
    "# Save the cropped raster\n",
    "template_raster_da_cropped.rio.to_raster(\"template_1km_random_ok_cropped.tif\")\n"
   ]
  },
  {
   "cell_type": "code",
   "execution_count": null,
   "metadata": {},
   "outputs": [],
   "source": [
    "## plot interactive map\n",
    "\n",
    "import leafmap.foliumap as leafmap\n",
    "\n",
    "bounds = template_raster_da_cropped.rio.bounds()\n",
    "center_lat = (bounds[1] + bounds[3]) / 2\n",
    "center_lon = (bounds[0] + bounds[2]) / 2\n",
    "\n",
    "m = leafmap.Map(center=[center_lat, center_lon], zoom=10)\n",
    "\n",
    "# Add the raster layer\n",
    "m.add_raster(template_raster_da_cropped, layer_name=\"Template Raster\", colormap=\"viridis\")\n",
    "\n",
    "# Display the map\n",
    "m\n",
    "\n"
   ]
  },
  {
   "cell_type": "code",
   "execution_count": null,
   "metadata": {},
   "outputs": [],
   "source": [
    "template_raster_da_cropped.plot()"
   ]
  },
  {
   "cell_type": "markdown",
   "metadata": {},
   "source": [
    "## Rasterize the buffer_merged_utm"
   ]
  },
  {
   "cell_type": "code",
   "execution_count": null,
   "metadata": {},
   "outputs": [],
   "source": [
    "# # Rasterize the buffer using geocube\n",
    "# from geocube.api.core import make_geocube\n",
    "\n",
    "# # Create geocube from buffer geometry\n",
    "# buffer_raster = make_geocube(\n",
    "#     vector_data=buffer_merged_utm,\n",
    "#     like=template_raster_da_cropped,\n",
    "#     fill=0,\n",
    "#     dtype='uint8'\n",
    "# )\n"
   ]
  },
  {
   "cell_type": "markdown",
   "metadata": {},
   "source": [
    "## Rasterize the border segments"
   ]
  },
  {
   "cell_type": "code",
   "execution_count": null,
   "metadata": {},
   "outputs": [],
   "source": [
    "# bounds = california_borders.total_bounds\n",
    "# res = 0.5\n",
    "# transform = rasterio.transform.from_origin(\n",
    "#     west=bounds[0], \n",
    "#     north=bounds[3], \n",
    "#     xsize=res, \n",
    "#     ysize=res\n",
    "# )\n",
    "# rows = math.ceil((bounds[3] - bounds[1]) / res)\n",
    "# cols = math.ceil((bounds[2] - bounds[0]) / res)\n",
    "# shape = (rows, cols)\n",
    "# shape"
   ]
  },
  {
   "cell_type": "code",
   "execution_count": null,
   "metadata": {},
   "outputs": [],
   "source": [
    "# california_raster1 = rasterio.features.rasterize(\n",
    "#     [(g, 1) for g in california_borders],\n",
    "#     out_shape=shape,\n",
    "#     transform=transform,\n",
    "#     all_touched=True,\n",
    "#     fill=np.nan,\n",
    "#     dtype=np.float64\n",
    "# )"
   ]
  },
  {
   "cell_type": "markdown",
   "metadata": {},
   "source": [
    "## Create distance rasters"
   ]
  },
  {
   "cell_type": "code",
   "execution_count": null,
   "metadata": {},
   "outputs": [],
   "source": [
    "## Option 3: Using GDAL proximity (most efficient)\n",
    "\n",
    "\n",
    "# import subprocess\n",
    "# import os\n",
    "\n",
    "# # Get unique border segment IDs\n",
    "# border_segment_ids = lines_gdf['border_segment_id'].unique()\n",
    "\n",
    "# for segment_id in border_segment_ids:\n",
    "#     # Filter the line for this segment\n",
    "#     line_segment = lines_gdf[lines_gdf['border_segment_id'] == segment_id]\n",
    "    \n",
    "#     # Save line segment to temporary shapefile\n",
    "#     temp_line_file = f\"temp_line_{segment_id}.shp\"\n",
    "#     line_segment.to_file(temp_line_file)\n",
    "    \n",
    "#     # Rasterize the line segment\n",
    "#     temp_raster_file = f\"temp_raster_{segment_id}.tif\"\n",
    "#     rasterize_cmd = f\"\"\"\n",
    "#     gdal_rasterize -burn 1 -tr {template_raster_da_cropped.rio.resolution()[0]} {template_raster_da_cropped.rio.resolution()[1]} \\\n",
    "#     -te {template_raster_da_cropped.rio.bounds()[0]} {template_raster_da_cropped.rio.bounds()[1]} \\\n",
    "#     {template_raster_da_cropped.rio.bounds()[2]} {template_raster_da_cropped.rio.bounds()[3]} \\\n",
    "#     -ot Byte -of GTiff -a_nodata 0 {temp_line_file} {temp_raster_file}\n",
    "#     \"\"\"\n",
    "#     subprocess.run(rasterize_cmd, shell=True)\n",
    "    \n",
    "#     # Calculate proximity\n",
    "#     output_filename = f\"distance_to_segment_{segment_id}.tif\"\n",
    "#     proximity_cmd = f\"\"\"\n",
    "#     gdal_proximity.py {temp_raster_file} {output_filename} \\\n",
    "#     -distunits GEO -values 1 -nodata 0 -ot Float32\n",
    "#     \"\"\"\n",
    "#     subprocess.run(proximity_cmd, shell=True)\n",
    "    \n",
    "#     # Clean up temporary files\n",
    "#     os.remove(temp_line_file)\n",
    "#     os.remove(temp_raster_file)\n",
    "    \n",
    "#     print(f\"Created distance raster for segment {segment_id}\")\n"
   ]
  }
 ],
 "metadata": {
  "kernelspec": {
   "display_name": "Python 3",
   "language": "python",
   "name": "python3"
  },
  "language_info": {
   "codemirror_mode": {
    "name": "ipython",
    "version": 3
   },
   "file_extension": ".py",
   "mimetype": "text/x-python",
   "name": "python",
   "nbconvert_exporter": "python",
   "pygments_lexer": "ipython3",
   "version": "3.11.13"
  }
 },
 "nbformat": 4,
 "nbformat_minor": 2
}
